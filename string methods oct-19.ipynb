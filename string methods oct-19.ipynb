{
 "cells": [
  {
   "cell_type": "markdown",
   "id": "16310b0f",
   "metadata": {},
   "source": [
    "### DailyTask\n",
    "\n",
    "a) Document today’s class with proper explanation using markdown, comments, examples and code.\n",
    "\n",
    "b) Use help() to understand each parameter of all the string methods that were covered in class so far. Document the same with different examples with proper explanation of what the method does and its parameters."
   ]
  },
  {
   "cell_type": "markdown",
   "id": "13dbbb5a",
   "metadata": {},
   "source": [
    "## string methods\n",
    "###  help()\n",
    "* in document file we can find the word or substring/object by using the help() function.\n",
    "* The Python help function is used to display the documentation of modules, functions, classes, keywords, etc.\n",
    "* the help() function asks for built-in help system in string. if the argument is  a string, then the string is treated as the name of a module, function, class, keyword, or documentation topic, and a help page is printed on the console. If the argument is any other kind of object, a help page on the object is displayed.\n",
    "* If the help function is passed without an argument, then the interactive help utility starts up on the console. if you want to get out of help console, type quit."
   ]
  },
  {
   "cell_type": "code",
   "execution_count": 3,
   "id": "eaee8b01",
   "metadata": {},
   "outputs": [
    {
     "name": "stdout",
     "output_type": "stream",
     "text": [
      "Help on list object:\n",
      "\n",
      "class list(object)\n",
      " |  list(iterable=(), /)\n",
      " |  \n",
      " |  Built-in mutable sequence.\n",
      " |  \n",
      " |  If no argument is given, the constructor creates a new empty list.\n",
      " |  The argument must be an iterable if specified.\n",
      " |  \n",
      " |  Methods defined here:\n",
      " |  \n",
      " |  __add__(self, value, /)\n",
      " |      Return self+value.\n",
      " |  \n",
      " |  __contains__(self, key, /)\n",
      " |      Return key in self.\n",
      " |  \n",
      " |  __delitem__(self, key, /)\n",
      " |      Delete self[key].\n",
      " |  \n",
      " |  __eq__(self, value, /)\n",
      " |      Return self==value.\n",
      " |  \n",
      " |  __ge__(self, value, /)\n",
      " |      Return self>=value.\n",
      " |  \n",
      " |  __getattribute__(self, name, /)\n",
      " |      Return getattr(self, name).\n",
      " |  \n",
      " |  __getitem__(...)\n",
      " |      x.__getitem__(y) <==> x[y]\n",
      " |  \n",
      " |  __gt__(self, value, /)\n",
      " |      Return self>value.\n",
      " |  \n",
      " |  __iadd__(self, value, /)\n",
      " |      Implement self+=value.\n",
      " |  \n",
      " |  __imul__(self, value, /)\n",
      " |      Implement self*=value.\n",
      " |  \n",
      " |  __init__(self, /, *args, **kwargs)\n",
      " |      Initialize self.  See help(type(self)) for accurate signature.\n",
      " |  \n",
      " |  __iter__(self, /)\n",
      " |      Implement iter(self).\n",
      " |  \n",
      " |  __le__(self, value, /)\n",
      " |      Return self<=value.\n",
      " |  \n",
      " |  __len__(self, /)\n",
      " |      Return len(self).\n",
      " |  \n",
      " |  __lt__(self, value, /)\n",
      " |      Return self<value.\n",
      " |  \n",
      " |  __mul__(self, value, /)\n",
      " |      Return self*value.\n",
      " |  \n",
      " |  __ne__(self, value, /)\n",
      " |      Return self!=value.\n",
      " |  \n",
      " |  __repr__(self, /)\n",
      " |      Return repr(self).\n",
      " |  \n",
      " |  __reversed__(self, /)\n",
      " |      Return a reverse iterator over the list.\n",
      " |  \n",
      " |  __rmul__(self, value, /)\n",
      " |      Return value*self.\n",
      " |  \n",
      " |  __setitem__(self, key, value, /)\n",
      " |      Set self[key] to value.\n",
      " |  \n",
      " |  __sizeof__(self, /)\n",
      " |      Return the size of the list in memory, in bytes.\n",
      " |  \n",
      " |  append(self, object, /)\n",
      " |      Append object to the end of the list.\n",
      " |  \n",
      " |  clear(self, /)\n",
      " |      Remove all items from list.\n",
      " |  \n",
      " |  copy(self, /)\n",
      " |      Return a shallow copy of the list.\n",
      " |  \n",
      " |  count(self, value, /)\n",
      " |      Return number of occurrences of value.\n",
      " |  \n",
      " |  extend(self, iterable, /)\n",
      " |      Extend list by appending elements from the iterable.\n",
      " |  \n",
      " |  index(self, value, start=0, stop=9223372036854775807, /)\n",
      " |      Return first index of value.\n",
      " |      \n",
      " |      Raises ValueError if the value is not present.\n",
      " |  \n",
      " |  insert(self, index, object, /)\n",
      " |      Insert object before index.\n",
      " |  \n",
      " |  pop(self, index=-1, /)\n",
      " |      Remove and return item at index (default last).\n",
      " |      \n",
      " |      Raises IndexError if list is empty or index is out of range.\n",
      " |  \n",
      " |  remove(self, value, /)\n",
      " |      Remove first occurrence of value.\n",
      " |      \n",
      " |      Raises ValueError if the value is not present.\n",
      " |  \n",
      " |  reverse(self, /)\n",
      " |      Reverse *IN PLACE*.\n",
      " |  \n",
      " |  sort(self, /, *, key=None, reverse=False)\n",
      " |      Sort the list in ascending order and return None.\n",
      " |      \n",
      " |      The sort is in-place (i.e. the list itself is modified) and stable (i.e. the\n",
      " |      order of two equal elements is maintained).\n",
      " |      \n",
      " |      If a key function is given, apply it once to each list item and sort them,\n",
      " |      ascending or descending, according to their function values.\n",
      " |      \n",
      " |      The reverse flag can be set to sort in descending order.\n",
      " |  \n",
      " |  ----------------------------------------------------------------------\n",
      " |  Class methods defined here:\n",
      " |  \n",
      " |  __class_getitem__(...) from builtins.type\n",
      " |      See PEP 585\n",
      " |  \n",
      " |  ----------------------------------------------------------------------\n",
      " |  Static methods defined here:\n",
      " |  \n",
      " |  __new__(*args, **kwargs) from builtins.type\n",
      " |      Create and return a new object.  See help(type) for accurate signature.\n",
      " |  \n",
      " |  ----------------------------------------------------------------------\n",
      " |  Data and other attributes defined here:\n",
      " |  \n",
      " |  __hash__ = None\n",
      "\n"
     ]
    }
   ],
   "source": [
    "# sybtax\n",
    "help ([object])"
   ]
  },
  {
   "cell_type": "code",
   "execution_count": 4,
   "id": "ca36f9e6",
   "metadata": {},
   "outputs": [
    {
     "name": "stdout",
     "output_type": "stream",
     "text": [
      "Help on built-in function print in module builtins:\n",
      "\n",
      "print(*args, sep=' ', end='\\n', file=None, flush=False)\n",
      "    Prints the values to a stream, or to sys.stdout by default.\n",
      "    \n",
      "    sep\n",
      "      string inserted between values, default a space.\n",
      "    end\n",
      "      string appended after the last value, default a newline.\n",
      "    file\n",
      "      a file-like object (stream); defaults to the current sys.stdout.\n",
      "    flush\n",
      "      whether to forcibly flush the stream.\n",
      "\n"
     ]
    }
   ],
   "source": [
    "help(print)"
   ]
  },
  {
   "cell_type": "markdown",
   "id": "694b826b",
   "metadata": {},
   "source": [
    "### find()\n",
    "* The find() method finds the first occurrence of the specified value.\n",
    "* The Python find() is an in-built string method that returns the index position of the character if found.\n",
    "* -1 is known as value can't find."
   ]
  },
  {
   "cell_type": "code",
   "execution_count": 2,
   "id": "b636090f",
   "metadata": {},
   "outputs": [
    {
     "name": "stdout",
     "output_type": "stream",
     "text": [
      "Help on method_descriptor:\n",
      "\n",
      "find(...)\n",
      "    S.find(sub[, start[, end]]) -> int\n",
      "    \n",
      "    Return the lowest index in S where substring sub is found,\n",
      "    such that sub is contained within S[start:end].  Optional\n",
      "    arguments start and end are interpreted as in slice notation.\n",
      "    \n",
      "    Return -1 on failure.\n",
      "\n"
     ]
    }
   ],
   "source": [
    "help(str.find)"
   ]
  },
  {
   "cell_type": "code",
   "execution_count": 13,
   "id": "1e5d4573",
   "metadata": {},
   "outputs": [
    {
     "data": {
      "text/plain": [
       "8"
      ]
     },
     "execution_count": 13,
     "metadata": {},
     "output_type": "execute_result"
    }
   ],
   "source": [
    "x= 'Individual begins to learn after his birth and goes on learning till death. He learns through living and tries to adapt himself to the environment around him. There are therefore many factors in his life, in his environment and in his mental set up which influence his learning. These factors immensely affect the learning process of the individual.'\n",
    "x.find('a')  #first occurance of letter \"t\""
   ]
  },
  {
   "cell_type": "code",
   "execution_count": 28,
   "id": "479bcb5b",
   "metadata": {},
   "outputs": [
    {
     "data": {
      "text/plain": [
       "23"
      ]
     },
     "execution_count": 28,
     "metadata": {},
     "output_type": "execute_result"
    }
   ],
   "source": [
    "x.find ('a',20) # first occurance after 20th letter"
   ]
  },
  {
   "cell_type": "code",
   "execution_count": 12,
   "id": "f7eb6cb2",
   "metadata": {},
   "outputs": [
    {
     "data": {
      "text/plain": [
       "8"
      ]
     },
     "execution_count": 12,
     "metadata": {},
     "output_type": "execute_result"
    }
   ],
   "source": [
    "x.find ('a',0,10) #first occurancce between 0 to 10 is 8"
   ]
  },
  {
   "cell_type": "markdown",
   "id": "55c244d5",
   "metadata": {},
   "source": [
    "### count \n",
    "* The count() method returns the number of times a specified value appears in the string."
   ]
  },
  {
   "cell_type": "markdown",
   "id": "767b4147",
   "metadata": {},
   "source": [
    "##### parameters\n",
    "* the value is required in a string to search\n",
    "* the position of a string is starts from the string and end of the string."
   ]
  },
  {
   "cell_type": "code",
   "execution_count": 18,
   "id": "00964861",
   "metadata": {},
   "outputs": [
    {
     "data": {
      "text/plain": [
       "2"
      ]
     },
     "execution_count": 18,
     "metadata": {},
     "output_type": "execute_result"
    }
   ],
   "source": [
    "x.count('y') #total count of y in a particular sentence called (x)."
   ]
  },
  {
   "cell_type": "markdown",
   "id": "95cdfecd",
   "metadata": {},
   "source": [
    "### rfind()\n",
    "* we had rfind the first occurance we start from right to left side.\n",
    "* The Python String rfind() method searches for the starting index of a last occurrence of a specified substring is found in an original string. Unlike the rindex() method, which raises an exception if the substring is not present, this method returns -1.\n",
    "* it searches the entire string from the 0th index to the end index."
   ]
  },
  {
   "cell_type": "markdown",
   "id": "9c34f089",
   "metadata": {},
   "source": [
    "#### parameters\n",
    "* str − This specifies the string to be searched.\n",
    "\n",
    "* start − This is the starting index, by default its 0.\n",
    "\n",
    "* end − This is the ending index, by default its equal to the length of the string."
   ]
  },
  {
   "cell_type": "code",
   "execution_count": 11,
   "id": "4aa28af0",
   "metadata": {},
   "outputs": [],
   "source": [
    "x = 'Individual begins to learn after his birth and goes on learning till death. He learns through living and tries to adapt himself to the environment around him. There are therefore many factors in his life, in his environment and in his mental set up which influence his learning. These factors immensely affect the learning process of the individual.'"
   ]
  },
  {
   "cell_type": "code",
   "execution_count": 12,
   "id": "5cd7bbe5",
   "metadata": {},
   "outputs": [
    {
     "data": {
      "text/plain": [
       "346"
      ]
     },
     "execution_count": 12,
     "metadata": {},
     "output_type": "execute_result"
    }
   ],
   "source": [
    "x.rfind('a') # r.find is from right side occurance"
   ]
  },
  {
   "cell_type": "code",
   "execution_count": 13,
   "id": "e13eddb7",
   "metadata": {},
   "outputs": [
    {
     "data": {
      "text/plain": [
       "116"
      ]
     },
     "execution_count": 13,
     "metadata": {},
     "output_type": "execute_result"
    }
   ],
   "source": [
    "x.rfind('a',111,120)"
   ]
  },
  {
   "cell_type": "code",
   "execution_count": 22,
   "id": "be757392",
   "metadata": {},
   "outputs": [
    {
     "data": {
      "text/plain": [
       "7"
      ]
     },
     "execution_count": 22,
     "metadata": {},
     "output_type": "execute_result"
    }
   ],
   "source": [
    "'malayalam'. rfind('a',2)"
   ]
  },
  {
   "cell_type": "code",
   "execution_count": 23,
   "id": "abd06d55",
   "metadata": {},
   "outputs": [
    {
     "data": {
      "text/plain": [
       "5"
      ]
     },
     "execution_count": 23,
     "metadata": {},
     "output_type": "execute_result"
    }
   ],
   "source": [
    "'malayalam'. rfind('a',2,7) # from a (start) to a(end) = 7, secon a from right hand side is 5."
   ]
  },
  {
   "cell_type": "markdown",
   "id": "79ecb23c",
   "metadata": {},
   "source": [
    "### index() \n",
    "* index starts from 0\n",
    "* if there is no substring of given then output will give you error as an output as(-1).\n",
    "* The index() method is almost the same as the find() method, the only difference is that the find() method returns -1 if the value is not found."
   ]
  },
  {
   "cell_type": "code",
   "execution_count": 30,
   "id": "bc73c99b",
   "metadata": {},
   "outputs": [],
   "source": [
    "#m.find('z'), m.index('z') #uncomment to see the error"
   ]
  },
  {
   "cell_type": "code",
   "execution_count": 19,
   "id": "33e2eded",
   "metadata": {},
   "outputs": [
    {
     "data": {
      "text/plain": [
       "1"
      ]
     },
     "execution_count": 19,
     "metadata": {},
     "output_type": "execute_result"
    }
   ],
   "source": [
    "m = 'malayalam'\n",
    "m.index('a')"
   ]
  },
  {
   "cell_type": "code",
   "execution_count": 33,
   "id": "df0dc64e",
   "metadata": {},
   "outputs": [
    {
     "data": {
      "text/plain": [
       "(1, 1)"
      ]
     },
     "execution_count": 33,
     "metadata": {},
     "output_type": "execute_result"
    }
   ],
   "source": [
    "m = 'malayalam'\n",
    "m.find('a'), m.index('a')"
   ]
  },
  {
   "cell_type": "code",
   "execution_count": 18,
   "id": "81d5dbab",
   "metadata": {},
   "outputs": [
    {
     "data": {
      "text/plain": [
       "-1"
      ]
     },
     "execution_count": 18,
     "metadata": {},
     "output_type": "execute_result"
    }
   ],
   "source": [
    "m = 'malayalam'\n",
    "m.find('z')"
   ]
  },
  {
   "cell_type": "markdown",
   "id": "1f98bbf3",
   "metadata": {},
   "source": [
    "### rindex()\n",
    "* it also finds the last occurrence of the specified value. (right side occurance)\n",
    "* this method raises an exception if the value is not found.\n",
    "* it's similar to rfind method."
   ]
  },
  {
   "cell_type": "code",
   "execution_count": 35,
   "id": "e929c1b7",
   "metadata": {},
   "outputs": [
    {
     "data": {
      "text/plain": [
       "7"
      ]
     },
     "execution_count": 35,
     "metadata": {},
     "output_type": "execute_result"
    }
   ],
   "source": [
    "m.rindex('a')"
   ]
  },
  {
   "cell_type": "code",
   "execution_count": 36,
   "id": "79ac6020",
   "metadata": {},
   "outputs": [],
   "source": [
    "#m.rindex('z') #uncomment to see the error"
   ]
  },
  {
   "cell_type": "markdown",
   "id": "7e15f485",
   "metadata": {},
   "source": [
    "### replace()\n",
    "* if want replace the cap letter to small letter, if syntax found use the help(m.replace)\n",
    "* The term replace() method replaces a specified phrase with another specified phrase. complete phrase will be replaced if nothing else is  specified.\n",
    "* parameter : new value is required to replace the old value, A number specifying how many occurrences of the old value you want to replace. Default is all occurrences."
   ]
  },
  {
   "cell_type": "code",
   "execution_count": 37,
   "id": "37be79f1",
   "metadata": {},
   "outputs": [
    {
     "name": "stdout",
     "output_type": "stream",
     "text": [
      "Help on built-in function replace:\n",
      "\n",
      "replace(old, new, count=-1, /) method of builtins.str instance\n",
      "    Return a copy with all occurrences of substring old replaced by new.\n",
      "    \n",
      "      count\n",
      "        Maximum number of occurrences to replace.\n",
      "        -1 (the default value) means replace all occurrences.\n",
      "    \n",
      "    If the optional argument count is given, only the first count occurrences are\n",
      "    replaced.\n",
      "\n"
     ]
    }
   ],
   "source": [
    "help(m.replace)"
   ]
  },
  {
   "cell_type": "code",
   "execution_count": 38,
   "id": "33cf0783",
   "metadata": {},
   "outputs": [
    {
     "data": {
      "text/plain": [
       "'MalayalaM'"
      ]
     },
     "execution_count": 38,
     "metadata": {},
     "output_type": "execute_result"
    }
   ],
   "source": [
    "m.replace('m', 'M')"
   ]
  },
  {
   "cell_type": "code",
   "execution_count": 40,
   "id": "56d56351",
   "metadata": {},
   "outputs": [
    {
     "data": {
      "text/plain": [
       "'mAlAyalam'"
      ]
     },
     "execution_count": 40,
     "metadata": {},
     "output_type": "execute_result"
    }
   ],
   "source": [
    "m.replace('a', 'A', 2)"
   ]
  },
  {
   "cell_type": "markdown",
   "id": "8a1473ce",
   "metadata": {},
   "source": [
    "### split() \n",
    "* it splits the string into a list item. \n",
    "* separator Specifies the separator to use when splitting the string. By default any whitespace is a separator.\n",
    "* maxsplit Specifies how many splits to do. Default value is -1, which is \"all occurrences\""
   ]
  },
  {
   "cell_type": "code",
   "execution_count": 58,
   "id": "1d21c651",
   "metadata": {},
   "outputs": [
    {
     "data": {
      "text/plain": [
       "'Magic is an ancient practice rooted in rituals, spiritual divinations, and/or cultural lineage—with an intention to invoke, manipulate, or otherwise manifest supernatural forces, beings, or entities in the natural world. It is a categorical yet often ambiguous term which has been used to refer to a wide variety of beliefs and practices, frequently considered separate from both religion and science.'"
      ]
     },
     "execution_count": 58,
     "metadata": {},
     "output_type": "execute_result"
    }
   ],
   "source": [
    "xl = 'Magic is an ancient practice rooted in rituals, spiritual divinations, and/or cultural lineage—with an intention to invoke, manipulate, or otherwise manifest supernatural forces, beings, or entities in the natural world. It is a categorical yet often ambiguous term which has been used to refer to a wide variety of beliefs and practices, frequently considered separate from both religion and science.'\n",
    "xl"
   ]
  },
  {
   "cell_type": "code",
   "execution_count": 53,
   "id": "b79837bf",
   "metadata": {},
   "outputs": [
    {
     "name": "stdout",
     "output_type": "stream",
     "text": [
      "Help on built-in function split:\n",
      "\n",
      "split(sep=None, maxsplit=-1) method of builtins.str instance\n",
      "    Return a list of the substrings in the string, using sep as the separator string.\n",
      "    \n",
      "      sep\n",
      "        The separator used to split the string.\n",
      "    \n",
      "        When set to None (the default value), will split on any whitespace\n",
      "        character (including \\\\n \\\\r \\\\t \\\\f and spaces) and will discard\n",
      "        empty strings from the result.\n",
      "      maxsplit\n",
      "        Maximum number of splits (starting from the left).\n",
      "        -1 (the default value) means no limit.\n",
      "    \n",
      "    Note, str.split() is mainly useful for data that has been intentionally\n",
      "    delimited.  With natural text that includes punctuation, consider using\n",
      "    the regular expression module.\n",
      "\n"
     ]
    }
   ],
   "source": [
    "help(xl.split)"
   ]
  },
  {
   "cell_type": "code",
   "execution_count": 59,
   "id": "0d062641",
   "metadata": {},
   "outputs": [
    {
     "data": {
      "text/plain": [
       "['Magic',\n",
       " 'is',\n",
       " 'an',\n",
       " 'ancient',\n",
       " 'practice',\n",
       " 'rooted',\n",
       " 'in',\n",
       " 'rituals,',\n",
       " 'spiritual',\n",
       " 'divinations,',\n",
       " 'and/or',\n",
       " 'cultural',\n",
       " 'lineage—with',\n",
       " 'an',\n",
       " 'intention',\n",
       " 'to',\n",
       " 'invoke,',\n",
       " 'manipulate,',\n",
       " 'or',\n",
       " 'otherwise',\n",
       " 'manifest',\n",
       " 'supernatural',\n",
       " 'forces,',\n",
       " 'beings,',\n",
       " 'or',\n",
       " 'entities',\n",
       " 'in',\n",
       " 'the',\n",
       " 'natural',\n",
       " 'world.',\n",
       " 'It',\n",
       " 'is',\n",
       " 'a',\n",
       " 'categorical',\n",
       " 'yet',\n",
       " 'often',\n",
       " 'ambiguous',\n",
       " 'term',\n",
       " 'which',\n",
       " 'has',\n",
       " 'been',\n",
       " 'used',\n",
       " 'to',\n",
       " 'refer',\n",
       " 'to',\n",
       " 'a',\n",
       " 'wide',\n",
       " 'variety',\n",
       " 'of',\n",
       " 'beliefs',\n",
       " 'and',\n",
       " 'practices,',\n",
       " 'frequently',\n",
       " 'considered',\n",
       " 'separate',\n",
       " 'from',\n",
       " 'both',\n",
       " 'religion',\n",
       " 'and',\n",
       " 'science.']"
      ]
     },
     "execution_count": 59,
     "metadata": {},
     "output_type": "execute_result"
    }
   ],
   "source": [
    "xl.split()"
   ]
  },
  {
   "cell_type": "code",
   "execution_count": 60,
   "id": "5fe9b295",
   "metadata": {},
   "outputs": [
    {
     "data": {
      "text/plain": [
       "['Magic',\n",
       " 'is',\n",
       " 'an',\n",
       " 'ancient practice rooted in rituals, spiritual divinations, and/or cultural lineage—with an intention to invoke, manipulate, or otherwise manifest supernatural forces, beings, or entities in the natural world. It is a categorical yet often ambiguous term which has been used to refer to a wide variety of beliefs and practices, frequently considered separate from both religion and science.']"
      ]
     },
     "execution_count": 60,
     "metadata": {},
     "output_type": "execute_result"
    }
   ],
   "source": [
    "xl.split(sep=' ',maxsplit = 3)"
   ]
  },
  {
   "cell_type": "code",
   "execution_count": 56,
   "id": "7692f3ac",
   "metadata": {},
   "outputs": [
    {
     "data": {
      "text/plain": [
       "True"
      ]
     },
     "execution_count": 56,
     "metadata": {},
     "output_type": "execute_result"
    }
   ],
   "source": [
    "'rsplit' in dir(str)"
   ]
  },
  {
   "cell_type": "markdown",
   "id": "a6be8dc2",
   "metadata": {},
   "source": [
    "### rsplit()"
   ]
  },
  {
   "cell_type": "code",
   "execution_count": 69,
   "id": "435e7a48",
   "metadata": {},
   "outputs": [
    {
     "data": {
      "text/plain": [
       "'i watched a film called avatar-2'"
      ]
     },
     "execution_count": 69,
     "metadata": {},
     "output_type": "execute_result"
    }
   ],
   "source": [
    "rsplit = ('i watched a film called avatar-2')\n",
    "rsplit"
   ]
  },
  {
   "cell_type": "code",
   "execution_count": 60,
   "id": "a8d42b92",
   "metadata": {},
   "outputs": [
    {
     "data": {
      "text/plain": [
       "['Magic',\n",
       " 'is',\n",
       " 'an',\n",
       " 'ancient',\n",
       " 'practice',\n",
       " 'rooted',\n",
       " 'in',\n",
       " 'rituals,',\n",
       " 'spiritual',\n",
       " 'divinations,',\n",
       " 'and/or',\n",
       " 'cultural',\n",
       " 'lineage—with',\n",
       " 'an',\n",
       " 'intention',\n",
       " 'to',\n",
       " 'invoke,',\n",
       " 'manipulate,',\n",
       " 'or',\n",
       " 'otherwise',\n",
       " 'manifest',\n",
       " 'supernatural',\n",
       " 'forces,',\n",
       " 'beings,',\n",
       " 'or',\n",
       " 'entities',\n",
       " 'in',\n",
       " 'the',\n",
       " 'natural',\n",
       " 'world.',\n",
       " 'It',\n",
       " 'is',\n",
       " 'a',\n",
       " 'categorical',\n",
       " 'yet',\n",
       " 'often',\n",
       " 'ambiguous',\n",
       " 'term',\n",
       " 'which',\n",
       " 'has',\n",
       " 'been',\n",
       " 'used',\n",
       " 'to',\n",
       " 'refer',\n",
       " 'to',\n",
       " 'a',\n",
       " 'wide',\n",
       " 'variety',\n",
       " 'of',\n",
       " 'beliefs',\n",
       " 'and',\n",
       " 'practices,',\n",
       " 'frequently',\n",
       " 'considered',\n",
       " 'separate',\n",
       " 'from',\n",
       " 'both',\n",
       " 'religion',\n",
       " 'and',\n",
       " 'science.']"
      ]
     },
     "execution_count": 60,
     "metadata": {},
     "output_type": "execute_result"
    }
   ],
   "source": [
    "xl.rsplit() #right side occurance"
   ]
  },
  {
   "cell_type": "code",
   "execution_count": 43,
   "id": "671cd045",
   "metadata": {},
   "outputs": [
    {
     "data": {
      "text/plain": [
       "['Individual begins to learn after his birth and goes on learning till death. He learns through living and tries to adapt himself to the environment around him. There are therefore many factors in his life, in his environment and in his mental set up which influence his learning. These factors immensely affect the learning process of the individual.']"
      ]
     },
     "execution_count": 43,
     "metadata": {},
     "output_type": "execute_result"
    }
   ],
   "source": [
    "x.rsplit('22') #splits a string from right side occurance"
   ]
  },
  {
   "cell_type": "code",
   "execution_count": 63,
   "id": "63be4900",
   "metadata": {},
   "outputs": [
    {
     "data": {
      "text/plain": [
       "['learning is an', 'art', 'of', 'gaining', 'knowledge']"
      ]
     },
     "execution_count": 63,
     "metadata": {},
     "output_type": "execute_result"
    }
   ],
   "source": [
    "'learning is an art of gaining knowledge'.rsplit(maxsplit= 4)"
   ]
  },
  {
   "cell_type": "code",
   "execution_count": 73,
   "id": "dea7553a",
   "metadata": {},
   "outputs": [
    {
     "data": {
      "text/plain": [
       "<function str.rsplit(sep=None, maxsplit=-1)>"
      ]
     },
     "execution_count": 73,
     "metadata": {},
     "output_type": "execute_result"
    }
   ],
   "source": [
    "rsplit = ('i watched a film called avatar-2')\n",
    "x.rsplit"
   ]
  },
  {
   "cell_type": "code",
   "execution_count": 81,
   "id": "369e288f",
   "metadata": {},
   "outputs": [
    {
     "data": {
      "text/plain": [
       "['Individual begins to learn after his birth and goes on learning till death. He learns through living and tries to adapt himself to the environment around him. There are therefore many factors in his life, in his environment and in his mental set up which influence his learning. These factors',\n",
       " 'immensely',\n",
       " 'affect',\n",
       " 'the',\n",
       " 'learning',\n",
       " 'process',\n",
       " 'of',\n",
       " 'the',\n",
       " 'individual.']"
      ]
     },
     "execution_count": 81,
     "metadata": {},
     "output_type": "execute_result"
    }
   ],
   "source": [
    "x.rsplit(maxsplit= 8) #spliting from right to left"
   ]
  },
  {
   "cell_type": "markdown",
   "id": "f02d9009",
   "metadata": {},
   "source": [
    "### partition()\n",
    "* it mainly divides the string into 3 parts\n",
    "* if it given the character which is not there in a list it gives you empty string\n",
    "* if we add partitions it gives the original string\n",
    "* if we do the string concatenation it gives the parent string\n",
    "* String partition() method splits the string at the first occurrence of the separator and returns a tuple containing the part before the separator, the separator, and the part after the separator."
   ]
  },
  {
   "cell_type": "markdown",
   "id": "6e0dc537",
   "metadata": {},
   "source": [
    "### Parameters :\n",
    "* separator – separates the string at the first occurrence of it."
   ]
  },
  {
   "cell_type": "code",
   "execution_count": 83,
   "id": "6e54092f",
   "metadata": {},
   "outputs": [
    {
     "name": "stdout",
     "output_type": "stream",
     "text": [
      "Help on built-in function partition:\n",
      "\n",
      "partition(sep, /) method of builtins.str instance\n",
      "    Partition the string into three parts using the given separator.\n",
      "    \n",
      "    This will search for the separator in the string.  If the separator is found,\n",
      "    returns a 3-tuple containing the part before the separator, the separator\n",
      "    itself, and the part after it.\n",
      "    \n",
      "    If the separator is not found, returns a 3-tuple containing the original string\n",
      "    and two empty strings.\n",
      "\n"
     ]
    }
   ],
   "source": [
    "help(str.partition)"
   ]
  },
  {
   "cell_type": "code",
   "execution_count": 68,
   "id": "e5e5ded0",
   "metadata": {},
   "outputs": [
    {
     "data": {
      "text/plain": [
       "'Individual begins to learn after his birth and goes on learning till death. He learns through living and tries to adapt himself to the environment around him. There are therefore many factors in his life, in his environment and in his mental set up which influence his learning. These factors immensely affect the learning process of the individual.'"
      ]
     },
     "execution_count": 68,
     "metadata": {},
     "output_type": "execute_result"
    }
   ],
   "source": [
    "x"
   ]
  },
  {
   "cell_type": "code",
   "execution_count": 70,
   "id": "36ea8658",
   "metadata": {},
   "outputs": [
    {
     "data": {
      "text/plain": [
       "('Individual',\n",
       " ' ',\n",
       " 'begins to learn after his birth and goes on learning till death. He learns through living and tries to adapt himself to the environment around him. There are therefore many factors in his life, in his environment and in his mental set up which influence his learning. These factors immensely affect the learning process of the individual.')"
      ]
     },
     "execution_count": 70,
     "metadata": {},
     "output_type": "execute_result"
    }
   ],
   "source": [
    "x.partition(' ')\n"
   ]
  },
  {
   "cell_type": "code",
   "execution_count": 72,
   "id": "aac13a29",
   "metadata": {},
   "outputs": [
    {
     "data": {
      "text/plain": [
       "'malayalam'"
      ]
     },
     "execution_count": 72,
     "metadata": {},
     "output_type": "execute_result"
    }
   ],
   "source": [
    "m"
   ]
  },
  {
   "cell_type": "code",
   "execution_count": 73,
   "id": "e2e2f20b",
   "metadata": {},
   "outputs": [
    {
     "data": {
      "text/plain": [
       "['m', 'l', 'y', 'l', 'm']"
      ]
     },
     "execution_count": 73,
     "metadata": {},
     "output_type": "execute_result"
    }
   ],
   "source": [
    "m.split('a')"
   ]
  },
  {
   "cell_type": "code",
   "execution_count": 74,
   "id": "6b74bb4f",
   "metadata": {},
   "outputs": [
    {
     "data": {
      "text/plain": [
       "('m', 'a', 'layalam')"
      ]
     },
     "execution_count": 74,
     "metadata": {},
     "output_type": "execute_result"
    }
   ],
   "source": [
    "m.partition('a')"
   ]
  },
  {
   "cell_type": "code",
   "execution_count": 75,
   "id": "6af6ff60",
   "metadata": {},
   "outputs": [
    {
     "data": {
      "text/plain": [
       "('mala', 'y', 'alam')"
      ]
     },
     "execution_count": 75,
     "metadata": {},
     "output_type": "execute_result"
    }
   ],
   "source": [
    "m.partition('y')"
   ]
  },
  {
   "cell_type": "code",
   "execution_count": 77,
   "id": "42b08cd0",
   "metadata": {},
   "outputs": [
    {
     "data": {
      "text/plain": [
       "['malayalam']"
      ]
     },
     "execution_count": 77,
     "metadata": {},
     "output_type": "execute_result"
    }
   ],
   "source": [
    "m.split('z')"
   ]
  },
  {
   "cell_type": "code",
   "execution_count": 76,
   "id": "02e309c9",
   "metadata": {},
   "outputs": [
    {
     "data": {
      "text/plain": [
       "('malayalam', '', '')"
      ]
     },
     "execution_count": 76,
     "metadata": {},
     "output_type": "execute_result"
    }
   ],
   "source": [
    "m.partition('z')"
   ]
  },
  {
   "cell_type": "code",
   "execution_count": 78,
   "id": "43c55d2b",
   "metadata": {},
   "outputs": [
    {
     "data": {
      "text/plain": [
       "'malayalam'"
      ]
     },
     "execution_count": 78,
     "metadata": {},
     "output_type": "execute_result"
    }
   ],
   "source": [
    "m.partition('z')[0]+m.partition('z')[1]+m.partition('z')[2]"
   ]
  },
  {
   "cell_type": "code",
   "execution_count": 80,
   "id": "ed8a9a79",
   "metadata": {},
   "outputs": [
    {
     "data": {
      "text/plain": [
       "('m', 'a', 'layalam')"
      ]
     },
     "execution_count": 80,
     "metadata": {},
     "output_type": "execute_result"
    }
   ],
   "source": [
    "m.partition('a') #right side occurance"
   ]
  },
  {
   "cell_type": "markdown",
   "id": "f188fd06",
   "metadata": {},
   "source": [
    "### rpartition()\n",
    "* rpartition() Method split the given string into three parts. rpartition() starts looking for separator from the right side, till the separator is found and return a tuple which contains part of the string before separator, the separator and the part after the separator.\n",
    "* Syntax : string.rpartition(separator)\n",
    "\n",
    "Parameters :\n",
    " separator – separates the string at the first occurrence of it.\n",
    "\n",
    "Return Value :\n",
    "* It returns the part the string before the separator, separator parameter itself, and the part after the separator if the separator parameter is found in the string.\n",
    "* It returns two empty strings, followed by the given string if the separator is not found in the string."
   ]
  },
  {
   "cell_type": "code",
   "execution_count": 84,
   "id": "b18d35c6",
   "metadata": {},
   "outputs": [
    {
     "name": "stdout",
     "output_type": "stream",
     "text": [
      "Help on built-in function rpartition:\n",
      "\n",
      "rpartition(sep, /) method of builtins.str instance\n",
      "    Partition the string into three parts using the given separator.\n",
      "    \n",
      "    This will search for the separator in the string, starting at the end. If\n",
      "    the separator is found, returns a 3-tuple containing the part before the\n",
      "    separator, the separator itself, and the part after it.\n",
      "    \n",
      "    If the separator is not found, returns a 3-tuple containing two empty strings\n",
      "    and the original string.\n",
      "\n"
     ]
    }
   ],
   "source": [
    "help(str.rpartition) "
   ]
  },
  {
   "cell_type": "code",
   "execution_count": 88,
   "id": "d25eb8f1",
   "metadata": {},
   "outputs": [
    {
     "data": {
      "text/plain": [
       "('malayal', 'a', 'm')"
      ]
     },
     "execution_count": 88,
     "metadata": {},
     "output_type": "execute_result"
    }
   ],
   "source": [
    "m.rpartition('a') #right side occurance partition"
   ]
  },
  {
   "cell_type": "code",
   "execution_count": 81,
   "id": "a2c8f7bc",
   "metadata": {},
   "outputs": [
    {
     "data": {
      "text/plain": [
       "('', '', 'malayalam')"
      ]
     },
     "execution_count": 81,
     "metadata": {},
     "output_type": "execute_result"
    }
   ],
   "source": [
    "m.rpartition('z') #it gives empty string #return value"
   ]
  },
  {
   "cell_type": "markdown",
   "id": "7b7e4f2b",
   "metadata": {},
   "source": [
    "### splitlines()\n",
    "* splitlines() method is used to split the lines at line boundaries.\n",
    "* The function returns a list of lines in the string, including the line break(optional).\n",
    "\n",
    "Syntax:string.splitlines([keepends])\n",
    "\n",
    "parameters:\n",
    "* keepends (optional): When set to True line breaks are included in the resulting list.\n",
    "* This can be a number, specifying the position of line break or, can be any Unicode characters, like “\\n”, “\\r”, “\\r\\n”, etc as boundaries for strings.\n",
    "Return Value:\n",
    "* Returns a list of the lines in the string, breaking at line boundaries"
   ]
  },
  {
   "cell_type": "code",
   "execution_count": 89,
   "id": "108f3513",
   "metadata": {},
   "outputs": [
    {
     "name": "stdout",
     "output_type": "stream",
     "text": [
      "Help on built-in function splitlines:\n",
      "\n",
      "splitlines(keepends=False) method of builtins.str instance\n",
      "    Return a list of the lines in the string, breaking at line boundaries.\n",
      "    \n",
      "    Line breaks are not included in the resulting list unless keepends is given and\n",
      "    true.\n",
      "\n"
     ]
    }
   ],
   "source": [
    "help(str.splitlines)"
   ]
  },
  {
   "cell_type": "code",
   "execution_count": null,
   "id": "8bd00f8e",
   "metadata": {},
   "outputs": [],
   "source": [
    "x = ''"
   ]
  },
  {
   "cell_type": "code",
   "execution_count": 82,
   "id": "9646b817",
   "metadata": {},
   "outputs": [
    {
     "data": {
      "text/plain": [
       "['Individual begins to learn after his birth and goes on learning till death. He learns through living and tries to adapt himself to the environment around him. There are therefore many factors in his life, in his environment and in his mental set up which influence his learning. These factors immensely affect the learning process of the individual.']"
      ]
     },
     "execution_count": 82,
     "metadata": {},
     "output_type": "execute_result"
    }
   ],
   "source": [
    "x.split('\\n') #'\\n' is new line"
   ]
  },
  {
   "cell_type": "code",
   "execution_count": 96,
   "id": "5ecbf379",
   "metadata": {},
   "outputs": [
    {
     "data": {
      "text/plain": [
       "['Individual begins to learn after his birth and goes on learning till death. He learns through living and tries to adapt himself to the environment around him. There are therefore many factors in his life, in his environment and in his mental set up which influence his learning. These factors immensely affect the learning process of the individual.']"
      ]
     },
     "execution_count": 96,
     "metadata": {},
     "output_type": "execute_result"
    }
   ],
   "source": [
    "x.splitlines()"
   ]
  },
  {
   "cell_type": "markdown",
   "id": "4eb027e7",
   "metadata": {},
   "source": [
    "## conclusion about string methods 19 oct task\n",
    "* the string methods of count(), find(), rfind(), index(), rindex(), split(), rsplit(), partition(), rpartition(), splitlines(), to understand the parameters also worked on help() as well along with examples."
   ]
  }
 ],
 "metadata": {
  "kernelspec": {
   "display_name": "Python 3 (ipykernel)",
   "language": "python",
   "name": "python3"
  },
  "language_info": {
   "codemirror_mode": {
    "name": "ipython",
    "version": 3
   },
   "file_extension": ".py",
   "mimetype": "text/x-python",
   "name": "python",
   "nbconvert_exporter": "python",
   "pygments_lexer": "ipython3",
   "version": "3.11.5"
  }
 },
 "nbformat": 4,
 "nbformat_minor": 5
}
